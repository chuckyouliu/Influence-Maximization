{
 "cells": [
  {
   "cell_type": "code",
   "execution_count": 2,
   "metadata": {
    "collapsed": false
   },
   "outputs": [],
   "source": [
    "%matplotlib inline\n",
    "import main\n",
    "import spark_greedy\n",
    "import matplotlib.pyplot as plt\n",
    "import random\n",
    "import math\n",
    "import time\n",
    "from functools import partial\n",
    "\n",
    "\n",
    "#VM bs\n",
    "#import findspark\n",
    "#findspark.init()\n",
    "\n",
    "from pyspark import SparkContext"
   ]
  },
  {
   "cell_type": "code",
   "execution_count": 3,
   "metadata": {
    "collapsed": false
   },
   "outputs": [],
   "source": [
    "sc = SparkContext(\"local\", \"test_run\")"
   ]
  },
  {
   "cell_type": "code",
   "execution_count": 46,
   "metadata": {
    "collapsed": false
   },
   "outputs": [],
   "source": [
    "def node_swap(total_nodes,current_nodes,swap_number):\n",
    "    new_nodes = set(random.sample(total_nodes.difference(current_nodes),swap_number))\n",
    "    kept_nodes = set(random.sample(current_nodes,len(current_nodes) - swap_number))\n",
    "    return new_nodes | kept_nodes\n",
    "\n",
    "def imp_mcmc(graph,k,N_tot,iterations,y=spark_greedy.spark_trials):\n",
    "    \n",
    "    \n",
    "    # graph broadcast\n",
    "    g = sc.broadcast(graph)\n",
    "    \n",
    "    # partitions\n",
    "    parts = 4\n",
    "    \n",
    "    # rdd\n",
    "    rdd = sc.parallelize(range(0,parts))\n",
    "    \n",
    "    # iteration variables\n",
    "    i = 0\n",
    "    j = 0\n",
    "    \n",
    "    # annealing parameters\n",
    "    T = 1\n",
    "    a = 0.9\n",
    "    depth = 10\n",
    "    N = N_tot/parts\n",
    "    swap = 1\n",
    "    \n",
    "    f = partial(y,rdd)\n",
    "    \n",
    "    all_nodes = set(graph.nodes())\n",
    "    nodes = set(random.sample(all_nodes,k))\n",
    "    \n",
    "    # Here E = activated nodes, we want to find max E (NOT min E)\n",
    "    E1 = f(N,nodes,g.value,depth)['mean']\n",
    "    max_E = E1\n",
    "    temp_max_E = E1\n",
    "    max_nodes = nodes\n",
    "    temp_max_nodes = nodes\n",
    "    accepted = []\n",
    "    chain = 0\n",
    "\n",
    "    while i < iterations:\n",
    "\n",
    "        if j > 49:\n",
    "            T = T*a\n",
    "            j = 0\n",
    "\n",
    "        if chain > 5000:\n",
    "            #N += 1\n",
    "            T = 1\n",
    "            chain = 0\n",
    "            nodes = set(random.sample(all_nodes,k))\n",
    "            E1 = f(N, nodes, g.value, depth)['mean']\n",
    "            temp_max_E = E1\n",
    "            temp_max_nodes = nodes\n",
    "            print \"chain reset\"\n",
    "\n",
    "        new_nodes = node_swap(all_nodes,nodes,swap)\n",
    "        E2 = f(N, new_nodes, g.value, depth)['mean']\n",
    "        \n",
    "        u = random.uniform(0,1)\n",
    "        \n",
    "        # Boltzman distribution\n",
    "        if u <= math.exp((math.log(E2) - math.log(E1))/T):\n",
    "            \n",
    "            if E2 > max_E:\n",
    "                max_E = E2\n",
    "                max_nodes = new_nodes\n",
    "                \n",
    "            if E2 < temp_max_E:\n",
    "                temp_max_E = E2\n",
    "                chain = 0\n",
    "\n",
    "            j += 1\n",
    "            nodes = new_nodes\n",
    "            E1 = E2\n",
    "\n",
    "        else:\n",
    "            chain += 1\n",
    "\n",
    "        accepted.append(E1)\n",
    "        i += 1\n",
    "\n",
    "    plt.plot(accepted)\n",
    "    print max_nodes\n",
    "    print max_E\n"
   ]
  },
  {
   "cell_type": "code",
   "execution_count": 39,
   "metadata": {
    "collapsed": false
   },
   "outputs": [
    {
     "name": "stdout",
     "output_type": "stream",
     "text": [
      "ok\n"
     ]
    }
   ],
   "source": [
    "NC_digraph = main.import_graph(\"nc_mini.json\")\n",
    "print 'ok'"
   ]
  },
  {
   "cell_type": "code",
   "execution_count": 37,
   "metadata": {
    "collapsed": false,
    "scrolled": true
   },
   "outputs": [
    {
     "name": "stdout",
     "output_type": "stream",
     "text": [
      "updated 3!\n",
      "set([u'A6bPFcUjuuayRBoyybedDQ', u'gPKODEBXFwuweW74DLjWjw'])\n",
      "26.4140625\n",
      "6.99300003052\n"
     ]
    },
    {
     "data": {
      "image/png": "[encoded data removed]",
      "text/plain": [
       "<matplotlib.figure.Figure at 0x1368e828>"
      ]
     },
     "metadata": {},
     "output_type": "display_data"
    }
   ],
   "source": [
    "start = time.time()\n",
    "imp_mcmc(NC_digraph,2,2)\n",
    "\n",
    "print time.time() - start"
   ]
  },
  {
   "cell_type": "code",
   "execution_count": 29,
   "metadata": {
    "collapsed": false
   },
   "outputs": [],
   "source": [
    "NC_digraph_full = main.import_graph(\"nc_full.json\")"
   ]
  },
  {
   "cell_type": "code",
   "execution_count": 40,
   "metadata": {
    "collapsed": false
   },
   "outputs": [
    {
     "name": "stdout",
     "output_type": "stream",
     "text": [
      "updated 3!\n",
      "set([u'TQxU-uhfw21R_O2MiB4OkQ', u'Hg4GF6sHT_9tuHIvrfpkpw'])\n",
      "8968.015625\n",
      "358.419000149\n"
     ]
    },
    {
     "data": {
      "image/png": "[encoded data removed]",
      "text/plain": [
       "<matplotlib.figure.Figure at 0x1341e7b8>"
      ]
     },
     "metadata": {},
     "output_type": "display_data"
    }
   ],
   "source": [
    "start = time.time()\n",
    "imp_mcmc(NC_digraph_full,2,10)\n",
    "\n",
    "print time.time() - start"
   ]
  },
  {
   "cell_type": "code",
   "execution_count": null,
   "metadata": {
    "collapsed": false
   },
   "outputs": [],
   "source": [
    "# 30 seconds per markov chain step:\n",
    "# 1 hour = 60 step\n",
    "# 1 day = 1440 steps"
   ]
  },
  {
   "cell_type": "code",
   "execution_count": 43,
   "metadata": {
    "collapsed": false
   },
   "outputs": [
    {
     "name": "stdout",
     "output_type": "stream",
     "text": [
      "updated 3!\n",
      "set([u'jUjHe3Zjcpccx3qsrkV9eA', u'hznWedT98PZn5DFQR5ZI_Q', u'8b0hrkKVi0u5dgQZ0bYe1Q'])\n",
      "8955.84375\n",
      "k = 3: time =552.065999985\n",
      "updated 3!\n",
      "set([u'yS1T2lhZKn48sWcL9Q1OFQ', u'Nkvorg0vmBSQL9mcSC0XiQ', u'Grkzg-ncOPBInyjNCNfluA', u'96Vpd7QpqErcBaqPMl0Fbw'])\n",
      "8959.03125\n",
      "k = 4: time =574.205999851\n",
      "updated 3!\n",
      "set([u'CFTtaXMvqQ2vCo8lRD3H1A', u'HzH2dW8ZXynAMBv5oMyiww', u'Fo438fAEj4QxFSObm38u7w', u't5mr9snU8tI7hcjMSCYxLQ', u'yaeBhooTaPXFBU8o21vudA'])\n",
      "8967.3515625\n",
      "k = 5: time =688.246999979\n"
     ]
    },
    {
     "data": {
      "image/png": "[encoded data removed]",
      "text/plain": [
       "<matplotlib.figure.Figure at 0x1368e240>"
      ]
     },
     "metadata": {},
     "output_type": "display_data"
    }
   ],
   "source": [
    "start = time.time()\n",
    "imp_mcmc(NC_digraph_full,3,64,20)\n",
    "\n",
    "print 'k = 3: time =' + str(time.time() - start)\n",
    "\n",
    "start = time.time()\n",
    "imp_mcmc(NC_digraph_full,4,64,20)\n",
    "\n",
    "print 'k = 4: time =' + str(time.time() - start)\n",
    "\n",
    "start = time.time()\n",
    "imp_mcmc(NC_digraph_full,5,64,20)\n",
    "\n",
    "print 'k = 5: time =' + str(time.time() - start)"
   ]
  },
  {
   "cell_type": "code",
   "execution_count": 44,
   "metadata": {
    "collapsed": false
   },
   "outputs": [
    {
     "data": {
      "text/plain": [
       "24224"
      ]
     },
     "execution_count": 44,
     "metadata": {},
     "output_type": "execute_result"
    }
   ],
   "source": [
    "len(NC_digraph_full.nodes())"
   ]
  },
  {
   "cell_type": "code",
   "execution_count": 47,
   "metadata": {
    "collapsed": false
   },
   "outputs": [
    {
     "name": "stdout",
     "output_type": "stream",
     "text": [
      "set([u'QxVV5XAQd3S3GI-4qk6sJg', u'zlgk856vrBx3wSorYHw_3w', u'sfrumTeq5CyNSOCF3o7UCg'])\n",
      "8969.76171875\n",
      "k = 4: time =949.352999926\n",
      "set([u'h_v04iVk5A8pNFnje8iiDw', u'ZrDA_FCLIvz6w813BMG-gw', u'45uO-k9s7muj_l6GIRWlHA'])\n",
      "8961.97265625\n",
      "k = 5: time =2156.34700012\n"
     ]
    },
    {
     "data": {
      "image/png": "[encoded data removed]",
      "text/plain": [
       "<matplotlib.figure.Figure at 0x8bf5f98>"
      ]
     },
     "metadata": {},
     "output_type": "display_data"
    }
   ],
   "source": [
    "start = time.time()\n",
    "imp_mcmc(NC_digraph_full,3,128,20)\n",
    "\n",
    "print 'k = 4: time =' + str(time.time() - start)\n",
    "\n",
    "\n",
    "\n",
    "start = time.time()\n",
    "imp_mcmc(NC_digraph_full,3,256,20)\n",
    "\n",
    "print 'k = 5: time =' + str(time.time() - start)"
   ]
  },
  {
   "cell_type": "code",
   "execution_count": 48,
   "metadata": {
    "collapsed": false
   },
   "outputs": [
    {
     "name": "stdout",
     "output_type": "stream",
     "text": [
      "set([u'irgp7zoz5-wHG4DklEhzBw', u'Axjahugoqcfr6GTidue9cA', u'Fc8NYfCU59hFEyr59AA1BA', u'j-fQR6bLlELfTWtKple3LQ', u'Dxgd2ClL4N1HNjo1DEEmDw'])\n",
      "8978.0625\n",
      "k = 4: time =3291.48699999\n"
     ]
    },
    {
     "data": {
      "image/png": "[encoded data removed]",
      "text/plain": [
       "<matplotlib.figure.Figure at 0x8bf5f98>"
      ]
     },
     "metadata": {},
     "output_type": "display_data"
    }
   ],
   "source": [
    "start = time.time()\n",
    "imp_mcmc(NC_digraph_full,5,64,100)\n",
    "\n",
    "print 'k = 4: time =' + str(time.time() - start)"
   ]
  },
  {
   "cell_type": "code",
   "execution_count": null,
   "metadata": {
    "collapsed": true
   },
   "outputs": [],
   "source": []
  },
  {
   "cell_type": "code",
   "execution_count": 14,
   "metadata": {
    "collapsed": false
   },
   "outputs": [
    {
     "data": {
      "text/plain": [
       "32"
      ]
     },
     "execution_count": 14,
     "metadata": {},
     "output_type": "execute_result"
    }
   ],
   "source": [
    "sc.parallelize(range(0,8),32).getNumPartitions()"
   ]
  },
  {
   "cell_type": "code",
   "execution_count": 24,
   "metadata": {
    "collapsed": false
   },
   "outputs": [
    {
     "name": "stdout",
     "output_type": "stream",
     "text": [
      "7.08270215988\n"
     ]
    }
   ],
   "source": [
    "start = time.time()\n",
    "rdd = sc.parallelize(range(0,2),2)\n",
    "x = [random.choice(NC_digraph.nodes())]\n",
    "spark_greedy.spark_trials(rdd,2**13,x,NC_digraph)\n",
    "print time.time() - start"
   ]
  },
  {
   "cell_type": "code",
   "execution_count": 25,
   "metadata": {
    "collapsed": false
   },
   "outputs": [
    {
     "name": "stdout",
     "output_type": "stream",
     "text": [
      "6.13872289658\n"
     ]
    }
   ],
   "source": [
    "start = time.time()\n",
    "rdd = sc.parallelize(range(0,4),4)\n",
    "spark_greedy.spark_trials(rdd,2**12,x,NC_digraph)\n",
    "print time.time() - start"
   ]
  },
  {
   "cell_type": "code",
   "execution_count": 49,
   "metadata": {
    "collapsed": false
   },
   "outputs": [
    {
     "data": {
      "text/plain": [
       "{'mean': 8975.8700000000008,\n",
       " 'std': 42.338553352706796,\n",
       " 'time': 38.37100005149841}"
      ]
     },
     "execution_count": 49,
     "metadata": {},
     "output_type": "execute_result"
    }
   ],
   "source": [
    "main.cascade_trials(100,set([u'irgp7zoz5-wHG4DklEhzBw', u'Axjahugoqcfr6GTidue9cA', u'Fc8NYfCU59hFEyr59AA1BA', u'j-fQR6bLlELfTWtKple3LQ', u'Dxgd2ClL4N1HNjo1DEEmDw']),NC_digraph_full)"
   ]
  },
  {
   "cell_type": "code",
   "execution_count": null,
   "metadata": {
    "collapsed": true
   },
   "outputs": [],
   "source": []
  }
 ],
 "metadata": {
  "kernelspec": {
   "display_name": "Python 2",
   "language": "python",
   "name": "python2"
  },
  "language_info": {
   "codemirror_mode": {
    "name": "ipython",
    "version": 2
   },
   "file_extension": ".py",
   "mimetype": "text/x-python",
   "name": "python",
   "nbconvert_exporter": "python",
   "pygments_lexer": "ipython2",
   "version": "2.7.8"
  }
 },
 "nbformat": 4,
 "nbformat_minor": 0
}
