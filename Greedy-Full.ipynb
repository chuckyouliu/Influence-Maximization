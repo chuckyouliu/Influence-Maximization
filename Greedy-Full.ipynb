{
 "cells": [
  {
   "cell_type": "code",
   "execution_count": 1,
   "metadata": {
    "collapsed": true
   },
   "outputs": [],
   "source": [
    "%matplotlib inline\n",
    "import main\n",
    "import spark_greedy\n",
    "from pyspark import SparkContext\n",
    "import matplotlib.pyplot as plt\n",
    "import time\n",
    "import json\n",
    "import networkx as nx"
   ]
  },
  {
   "cell_type": "code",
   "execution_count": 2,
   "metadata": {
    "collapsed": true
   },
   "outputs": [],
   "source": [
    "class SetEncoder(json.JSONEncoder):\n",
    "    def default(self, obj):\n",
    "        if isinstance(obj, set):\n",
    "            return list(obj)\n",
    "        return json.JSONEncoder.default(self, obj)"
   ]
  },
  {
   "cell_type": "code",
   "execution_count": 3,
   "metadata": {
    "collapsed": true
   },
   "outputs": [],
   "source": [
    "#sc = SparkContext( 'spark://headnodehost:7077', appName = 'greedy_full', pyFiles=['main.py', 'spark_greedy.py'])\n",
    "sc = SparkContext( 'local[*]', appName = 'greedy_full', pyFiles=['main.py', 'spark_greedy.py'])"
   ]
  },
  {
   "cell_type": "code",
   "execution_count": 4,
   "metadata": {
    "collapsed": false,
    "scrolled": true
   },
   "outputs": [
    {
     "data": {
      "text/plain": [
       "8"
      ]
     },
     "execution_count": 4,
     "metadata": {},
     "output_type": "execute_result"
    }
   ],
   "source": [
    "partitions = sc.parallelize(range(1,1000)).getNumPartitions()\n",
    "partitions"
   ]
  },
  {
   "cell_type": "code",
   "execution_count": 5,
   "metadata": {
    "collapsed": true
   },
   "outputs": [],
   "source": [
    "NC_digraph = main.import_graph(\"nc_full.json\")"
   ]
  },
  {
   "cell_type": "code",
   "execution_count": 6,
   "metadata": {
    "collapsed": true
   },
   "outputs": [],
   "source": [
    "NC_broadcast = sc.broadcast(NC_digraph)"
   ]
  },
  {
   "cell_type": "code",
   "execution_count": 7,
   "metadata": {
    "collapsed": true
   },
   "outputs": [],
   "source": [
    "def fileName(num_trials, k, N, t):\n",
    "    return \"{}trials_{}k_{}N_{}t_info.json\".format(str(num_trials), str(k), str(N), str(t))"
   ]
  },
  {
   "cell_type": "code",
   "execution_count": null,
   "metadata": {
    "collapsed": false
   },
   "outputs": [],
   "source": [
    "start = time.time()\n",
    "num_trials = 20\n",
    "k = 3\n",
    "N_arr = [50]\n",
    "t_arr = [4, 7, 10]\n",
    "for N in N_arr:\n",
    "    for t in t_arr:\n",
    "        trials = spark_greedy.greedy_trials(sc, num_trials, NC_broadcast.value, k, N, t, partitions)\n",
    "        fd = open(fileName(num_trials, k, N, t),\"w\")\n",
    "        json.dump(trials, fd, cls=SetEncoder)\n",
    "        fd.close()\n",
    "print time.time() - start"
   ]
  },
  {
   "cell_type": "code",
   "execution_count": 23,
   "metadata": {
    "collapsed": true
   },
   "outputs": [],
   "source": [
    "del trials\n",
    "with open(\"{}info.json\".format(N),\"r\") as fd:\n",
    "    trials = json.load(fd)"
   ]
  },
  {
   "cell_type": "code",
   "execution_count": 24,
   "metadata": {
    "collapsed": false
   },
   "outputs": [
    {
     "name": "stdout",
     "output_type": "stream",
     "text": [
      "659.0\n",
      "659.0\n",
      "1.0\n"
     ]
    }
   ],
   "source": [
    "_lambda = min(trials[\"results\"])/max(trials[\"results\"])\n",
    "print min(trials[\"results\"])\n",
    "print max(trials[\"results\"])\n",
    "print _lambda"
   ]
  },
  {
   "cell_type": "code",
   "execution_count": 16,
   "metadata": {
    "collapsed": false
   },
   "outputs": [
    {
     "data": {
      "image/png": "[encoded data removed]",
      "text/plain": [
       "<matplotlib.figure.Figure at 0x15607780>"
      ]
     },
     "metadata": {},
     "output_type": "display_data"
    }
   ],
   "source": [
    "plt.scatter(range(0, len(trials[\"results\"])),trials[\"results\"])\n",
    "plt.title(r'N = {}, $\\lambda = {}$'.format(str(N),str(_lambda)), fontsize=20)\n",
    "x1,x2,y1,y2 = plt.axis()"
   ]
  },
  {
   "cell_type": "code",
   "execution_count": 18,
   "metadata": {
    "collapsed": false
   },
   "outputs": [
    {
     "data": {
      "text/plain": [
       "<matplotlib.text.Text at 0x15852240>"
      ]
     },
     "execution_count": 18,
     "metadata": {},
     "output_type": "execute_result"
    },
    {
     "data": {
      "image/png": "[encoded data removed]",
      "text/plain": [
       "<matplotlib.figure.Figure at 0x16f91e80>"
      ]
     },
     "metadata": {},
     "output_type": "display_data"
    }
   ],
   "source": [
    "nodes_values = spark_greedy.node_count(trials)\n",
    "patches, texts = plt.pie(nodes_values.values(), labels=map(lambda x: \"\" if nodes_values[x] < N/5 else x ,nodes_values.keys()))\n",
    "texts[0].set_fontsize(1)\n",
    "plt.title(\"N=\" + str(N))"
   ]
  },
  {
   "cell_type": "code",
   "execution_count": null,
   "metadata": {
    "collapsed": true
   },
   "outputs": [],
   "source": []
  }
 ],
 "metadata": {
  "kernelspec": {
   "display_name": "Python 2",
   "language": "python",
   "name": "python2"
  },
  "language_info": {
   "codemirror_mode": {
    "name": "ipython",
    "version": 2
   },
   "file_extension": ".py",
   "mimetype": "text/x-python",
   "name": "python",
   "nbconvert_exporter": "python",
   "pygments_lexer": "ipython2",
   "version": "2.7.10"
  }
 },
 "nbformat": 4,
 "nbformat_minor": 0
}
