{
 "cells": [
  {
   "cell_type": "code",
   "execution_count": 6,
   "metadata": {
    "collapsed": true
   },
   "outputs": [],
   "source": [
    "import main\n",
    "from pyspark import SparkContext\n",
    "import networkx as nx"
   ]
  },
  {
   "cell_type": "code",
   "execution_count": 2,
   "metadata": {
    "collapsed": true
   },
   "outputs": [],
   "source": [
    "%matplotlib inline\n",
    "import matplotlib.pyplot as plt"
   ]
  },
  {
   "cell_type": "code",
   "execution_count": 3,
   "metadata": {
    "collapsed": false
   },
   "outputs": [],
   "source": [
    "sc = SparkContext(\"local\", \"Influence_Maximization\")"
   ]
  },
  {
   "cell_type": "code",
   "execution_count": 4,
   "metadata": {
    "collapsed": true
   },
   "outputs": [],
   "source": [
    "NC_digraph = main.import_graph(\"nc_mini.json\")"
   ]
  },
  {
   "cell_type": "code",
   "execution_count": 8,
   "metadata": {
    "collapsed": false
   },
   "outputs": [
    {
     "data": {
      "text/plain": [
       "[u'PpkKVodWC0sdn74TbHQLzA',\n",
       " u'9kNIqxBAFKkPVIN_7MRtOg',\n",
       " u'lhIEvJs8o09n6-zdffln0g',\n",
       " u'GrA3BLjRjAKvFYwSqN_4cg',\n",
       " u'_-S38fYbXdf2J9n7se30jg']"
      ]
     },
     "execution_count": 8,
     "metadata": {},
     "output_type": "execute_result"
    }
   ],
   "source": [
    "nodesRDD = sc.parallelize(NC_digraph.nodes(),4)\n",
    "nodesRDD.take(5)"
   ]
  },
  {
   "cell_type": "code",
   "execution_count": 12,
   "metadata": {
    "collapsed": false
   },
   "outputs": [],
   "source": [
    "pairsRDD = nodesRDD.map(lambda x: (set([x]),main.cascade_trials(1000,[x],NC_digraph)['mean']))"
   ]
  },
  {
   "cell_type": "code",
   "execution_count": 15,
   "metadata": {
    "collapsed": false
   },
   "outputs": [
    {
     "data": {
      "text/plain": [
       "[({u'NzWLMPvbEval0OVg_YDn4g'}, 28.629000000000001),\n",
       " ({u'ts7EG6Zv2zdMDg29nyqGfA'}, 27.666),\n",
       " ({u'VhI6xyylcAxi0wOy2HOX3w'}, 26.916),\n",
       " ({u'-_1ctLaz3jhPYc12hKXsEQ'}, 25.712),\n",
       " ({u'lpZtfD-vCqUER1yGKEvUPw'}, 25.648),\n",
       " ({u's9I4KMcrHKki44g_eTrYqQ'}, 23.577999999999999),\n",
       " ({u'LP0bl3GKToABt3lnpSvA2w'}, 23.471),\n",
       " ({u'M-TwsqjrGVH9-qyw2KcvdQ'}, 22.873000000000001),\n",
       " ({u'A6bPFcUjuuayRBoyybedDQ'}, 21.824000000000002),\n",
       " ({u'3GteArKIVRlJZjjRqqwgaQ'}, 21.550999999999998)]"
      ]
     },
     "execution_count": 15,
     "metadata": {},
     "output_type": "execute_result"
    }
   ],
   "source": [
    "pairsRDD.takeOrdered(10, key=lambda x: -x[1])"
   ]
  },
  {
   "cell_type": "code",
   "execution_count": 7,
   "metadata": {
    "collapsed": false
   },
   "outputs": [
    {
     "data": {
      "text/plain": [
       "{u'NzWLMPvbEval0OVg_YDn4g'}"
      ]
     },
     "execution_count": 7,
     "metadata": {},
     "output_type": "execute_result"
    }
   ],
   "source": [
    "main.greedy_max_influence(NC_digraph,1,100)"
   ]
  },
  {
   "cell_type": "code",
   "execution_count": 9,
   "metadata": {
    "collapsed": true
   },
   "outputs": [],
   "source": [
    "def spark_greedy_max_influence(graph_rdd, graph, select_count, trials, iterations=float(\"inf\"), numPartitions=4):\n",
    "    max_influence = (set(), 0)\n",
    "    for iteration in range(1, select_count+1):\n",
    "        pairsRDD = graph_rdd.map(lambda x: (max_influence[0] | set([x]), main.cascade_trials(trials, max_influence[0] | set([x]), graph, iterations)['mean']))\n",
    "        pairsRDD = pairsRDD.filter(lambda x: len(x[0]) == iteration)\n",
    "        max_influence = pairsRDD.takeOrdered(1, key=lambda x: -x[1])[0]\n",
    "    return max_influence"
   ]
  },
  {
   "cell_type": "code",
   "execution_count": 10,
   "metadata": {
    "collapsed": false
   },
   "outputs": [
    {
     "data": {
      "text/plain": [
       "({u'-_1ctLaz3jhPYc12hKXsEQ',\n",
       "  u'NzWLMPvbEval0OVg_YDn4g',\n",
       "  u'VhI6xyylcAxi0wOy2HOX3w'},\n",
       " 46.959000000000003)"
      ]
     },
     "execution_count": 10,
     "metadata": {},
     "output_type": "execute_result"
    }
   ],
   "source": [
    "spark_greedy_max_influence(nodesRDD, NC_digraph, 3, 1000)"
   ]
  },
  {
   "cell_type": "code",
   "execution_count": 17,
   "metadata": {
    "collapsed": true
   },
   "outputs": [],
   "source": [
    "def spark_greedy_trials(num_trials, g, k, N, t=float(\"inf\"), partitions=4):\n",
    "    results = []\n",
    "    nodes = []\n",
    "    grdd = sc.parallelize(g.nodes(), partitions)\n",
    "    for trial in range(0, num_trials):\n",
    "        result = spark_greedy_max_influence(grdd, g, k, N, t, partitions)\n",
    "        results.append(result[1])\n",
    "        nodes.append(result[0])\n",
    "    return {\"nodes\": nodes, \"results\": results}\n",
    "    "
   ]
  },
  {
   "cell_type": "code",
   "execution_count": 28,
   "metadata": {
    "collapsed": false
   },
   "outputs": [],
   "source": [
    "problem_2a = spark_greedy_trials(100, NC_digraph, 3, 1000, 10)"
   ]
  },
  {
   "cell_type": "code",
   "execution_count": 29,
   "metadata": {
    "collapsed": false
   },
   "outputs": [
    {
     "name": "stdout",
     "output_type": "stream",
     "text": [
      "45.661\n",
      "47.313\n",
      "0.965083592247\n"
     ]
    }
   ],
   "source": [
    "_lambda = min(problem_2a[\"results\"])/max(problem_2a[\"results\"])\n",
    "print min(problem_2a[\"results\"])\n",
    "print max(problem_2a[\"results\"])\n",
    "print _lambda"
   ]
  },
  {
   "cell_type": "code",
   "execution_count": 31,
   "metadata": {
    "collapsed": false
   },
   "outputs": [
    {
     "data": {
      "text/plain": [
       "(-20.0, 120.0, 42, 53)"
      ]
     },
     "execution_count": 31,
     "metadata": {},
     "output_type": "execute_result"
    },
    {
     "data": {
      "image/png": "[encoded data removed]",
      "text/plain": [
       "<matplotlib.figure.Figure at 0x10bf32f10>"
      ]
     },
     "metadata": {},
     "output_type": "display_data"
    }
   ],
   "source": [
    "#scatter\n",
    "plt.scatter(range(0, len(problem_2a[\"results\"])),problem_2a[\"results\"])\n",
    "plt.title(r'N = 1000, $\\lambda = $' + str(_lambda), fontsize=20)\n",
    "x1,x2,y1,y2 = plt.axis()\n",
    "plt.axis((x1,x2,42,53))"
   ]
  },
  {
   "cell_type": "code",
   "execution_count": 34,
   "metadata": {
    "collapsed": false
   },
   "outputs": [
    {
     "data": {
      "text/plain": [
       "<matplotlib.text.Text at 0x10c812910>"
      ]
     },
     "execution_count": 34,
     "metadata": {},
     "output_type": "execute_result"
    },
    {
     "data": {
      "image/png": "[encoded data removed]",
      "text/plain": [
       "<matplotlib.figure.Figure at 0x10c550d90>"
      ]
     },
     "metadata": {},
     "output_type": "display_data"
    }
   ],
   "source": [
    "#dictionary of node -> times in max\n",
    "node_count = {}\n",
    "for result in problem_2a[\"nodes\"]:\n",
    "    for node in result:\n",
    "        if node not in node_count:\n",
    "            node_count[node] = 1\n",
    "        else:\n",
    "            node_count[node] += 1\n",
    "patches, texts = plt.pie(node_count.values(), labels=map(lambda x: \"\" if node_count[x] < 10 else x ,node_count.keys()))\n",
    "texts[0].set_fontsize(1)\n",
    "plt.title(\"N=1000\")"
   ]
  },
  {
   "cell_type": "code",
   "execution_count": 32,
   "metadata": {
    "collapsed": true
   },
   "outputs": [],
   "source": [
    "import json\n",
    "class SetEncoder(json.JSONEncoder):\n",
    "    def default(self, obj):\n",
    "        if isinstance(obj, set):\n",
    "            return list(obj)\n",
    "        return json.JSONEncoder.default(self, obj)\n",
    "fd = open(\"sparkruns/1000info.json\",\"w\")\n",
    "json.dump(problem_2a, fd, cls=SetEncoder)\n",
    "fd.close()"
   ]
  },
  {
   "cell_type": "code",
   "execution_count": 10,
   "metadata": {
    "collapsed": false
   },
   "outputs": [
    {
     "data": {
      "text/plain": [
       "[(u'NzWLMPvbEval0OVg_YDn4g', 39),\n",
       " (u'ts7EG6Zv2zdMDg29nyqGfA', 36),\n",
       " (u'VhI6xyylcAxi0wOy2HOX3w', 30)]"
      ]
     },
     "execution_count": 10,
     "metadata": {},
     "output_type": "execute_result"
    }
   ],
   "source": [
    "sc.parallelize(NC_digraph.nodes()).map(lambda x: (x, len(nx.edges(NC_digraph, nbunch=[x])))).takeOrdered(3, lambda x: -x[1])"
   ]
  },
  {
   "cell_type": "code",
   "execution_count": null,
   "metadata": {
    "collapsed": true
   },
   "outputs": [],
   "source": []
  }
 ],
 "metadata": {
  "kernelspec": {
   "display_name": "Python 2",
   "language": "python",
   "name": "python2"
  },
  "language_info": {
   "codemirror_mode": {
    "name": "ipython",
    "version": 2
   },
   "file_extension": ".py",
   "mimetype": "text/x-python",
   "name": "python",
   "nbconvert_exporter": "python",
   "pygments_lexer": "ipython2",
   "version": "2.7.10"
  }
 },
 "nbformat": 4,
 "nbformat_minor": 0
}
