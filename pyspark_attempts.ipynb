{
 "cells": [
  {
   "cell_type": "code",
   "execution_count": 1,
   "metadata": {
    "collapsed": true
   },
   "outputs": [],
   "source": [
    "import main"
   ]
  },
  {
   "cell_type": "code",
   "execution_count": 2,
   "metadata": {
    "collapsed": false
   },
   "outputs": [],
   "source": [
    "import findspark\n",
    "findspark.init()\n",
    "\n",
    "import pyspark\n",
    "sc = pyspark.SparkContext(appName=\"myAppName\")"
   ]
  },
  {
   "cell_type": "code",
   "execution_count": 6,
   "metadata": {
    "collapsed": true
   },
   "outputs": [],
   "source": [
    "NC_digraph = main.import_graph(\"nc_mini.json\")"
   ]
  },
  {
   "cell_type": "code",
   "execution_count": 7,
   "metadata": {
    "collapsed": false
   },
   "outputs": [
    {
     "data": {
      "text/plain": [
       "[u'PpkKVodWC0sdn74TbHQLzA',\n",
       " u'9kNIqxBAFKkPVIN_7MRtOg',\n",
       " u'lhIEvJs8o09n6-zdffln0g',\n",
       " u'GrA3BLjRjAKvFYwSqN_4cg',\n",
       " u'_-S38fYbXdf2J9n7se30jg']"
      ]
     },
     "execution_count": 7,
     "metadata": {},
     "output_type": "execute_result"
    }
   ],
   "source": [
    "nodesRDD = sc.parallelize(NC_digraph.nodes(),4)\n",
    "nodesRDD.take(5)"
   ]
  },
  {
   "cell_type": "code",
   "execution_count": 30,
   "metadata": {
    "collapsed": false
   },
   "outputs": [],
   "source": [
    "pairsRDD = nodesRDD.map(lambda x: (x,main.cascade_trials(1000,[x],NC_digraph)['mean']))"
   ]
  },
  {
   "cell_type": "code",
   "execution_count": 34,
   "metadata": {
    "collapsed": false
   },
   "outputs": [
    {
     "data": {
      "text/plain": [
       "[(u'NzWLMPvbEval0OVg_YDn4g', 28.686),\n",
       " (u'ts7EG6Zv2zdMDg29nyqGfA', 28.302),\n",
       " (u'VhI6xyylcAxi0wOy2HOX3w', 27.186),\n",
       " (u'-_1ctLaz3jhPYc12hKXsEQ', 25.800999999999998),\n",
       " (u'lpZtfD-vCqUER1yGKEvUPw', 25.123000000000001),\n",
       " (u's9I4KMcrHKki44g_eTrYqQ', 23.893999999999998),\n",
       " (u'M-TwsqjrGVH9-qyw2KcvdQ', 23.097999999999999),\n",
       " (u'LP0bl3GKToABt3lnpSvA2w', 22.946000000000002),\n",
       " (u'eFxX1tSNLmVkAP9kNv2--Q', 21.167999999999999),\n",
       " (u'3GteArKIVRlJZjjRqqwgaQ', 21.148)]"
      ]
     },
     "execution_count": 34,
     "metadata": {},
     "output_type": "execute_result"
    }
   ],
   "source": [
    "pairsRDD.takeOrdered(10, key=lambda x: -x[1])"
   ]
  },
  {
   "cell_type": "code",
   "execution_count": 26,
   "metadata": {
    "collapsed": false
   },
   "outputs": [
    {
     "data": {
      "text/plain": [
       "{u'VhI6xyylcAxi0wOy2HOX3w'}"
      ]
     },
     "execution_count": 26,
     "metadata": {},
     "output_type": "execute_result"
    }
   ],
   "source": [
    "main.greedy_max_influence(NC_digraph,1,100)"
   ]
  },
  {
   "cell_type": "code",
   "execution_count": null,
   "metadata": {
    "collapsed": true
   },
   "outputs": [],
   "source": []
  }
 ],
 "metadata": {
  "kernelspec": {
   "display_name": "Python 2",
   "language": "python",
   "name": "python2"
  },
  "language_info": {
   "codemirror_mode": {
    "name": "ipython",
    "version": 2
   },
   "file_extension": ".py",
   "mimetype": "text/x-python",
   "name": "python",
   "nbconvert_exporter": "python",
   "pygments_lexer": "ipython2",
   "version": "2.7.6"
  }
 },
 "nbformat": 4,
 "nbformat_minor": 0
}
