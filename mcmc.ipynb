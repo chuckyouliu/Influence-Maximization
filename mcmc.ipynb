{
 "cells": [
  {
   "cell_type": "code",
   "execution_count": 1,
   "metadata": {
    "collapsed": false
   },
   "outputs": [],
   "source": [
    "%matplotlib inline\n",
    "import main\n",
    "import spark_greedy\n",
    "import matplotlib.pyplot as plt\n",
    "import random\n",
    "import math\n",
    "import time\n",
    "import networkx as nx\n",
    "from functools import partial\n",
    "\n",
    "\n",
    "#VM bs\n",
    "import findspark\n",
    "findspark.init()\n",
    "\n",
    "from pyspark import SparkContext"
   ]
  },
  {
   "cell_type": "code",
   "execution_count": 2,
   "metadata": {
    "collapsed": false
   },
   "outputs": [],
   "source": [
    "sc = SparkContext(\"local\", \"test_run\")"
   ]
  },
  {
   "cell_type": "code",
   "execution_count": 21,
   "metadata": {
    "collapsed": false
   },
   "outputs": [],
   "source": [
    "def node_swap(graph,total_nodes,current_nodes,swap_number):\n",
    "    i = 0\n",
    "    searching = True\n",
    "    while searching:\n",
    "    \n",
    "        new_node = random.sample(total_nodes.difference(current_nodes),1)\n",
    "        kept_nodes = random.sample(current_nodes,len(current_nodes) - swap_number)\n",
    "        old_node = current_nodes.difference(kept_nodes)\n",
    "        E1 = math.log(len(graph.edges(nbunch=old_node)))\n",
    "        E2 = math.log(len(graph.edges(nbunch=new_node)))\n",
    "        u = random.uniform(0,1)\n",
    "        if u <= math.exp((E2 - E1)/0.25):\n",
    "            return set(new_node) | set(kept_nodes)\n",
    "            searching = False\n",
    "        i += 1\n",
    "        if i > 9:\n",
    "            return set(new_node) | set(kept_nodes)\n",
    "            searching = False\n",
    "        \n",
    "    '''\n",
    "    new_nodes = set(random.sample(total_nodes.difference(current_nodes),swap_number))\n",
    "    kept_nodes = set(random.sample(current_nodes,len(current_nodes) - swap_number))\n",
    "    return new_nodes | kept_nodes\n",
    "    '''\n",
    "def imp_mcmc(graph,k,nodes_in=0,y=spark_greedy.spark_trials):\n",
    "    \n",
    "    if nodes_in == 0:\n",
    "        all_nodes = set(graph.nodes())\n",
    "    else:\n",
    "        all_nodes = set(nodes_in)\n",
    "    \n",
    "    \n",
    "    # graph broadcast\n",
    "    g = sc.broadcast(graph)\n",
    "    \n",
    "    # partitions\n",
    "    parts = 32\n",
    "    \n",
    "    # rdd\n",
    "    rdd = sc.parallelize(range(0,parts),parts)\n",
    "    \n",
    "    # iteration variables\n",
    "    i = 0\n",
    "    j = 0\n",
    "    \n",
    "    # annealing parameters\n",
    "    T = 1\n",
    "    a = 0.9\n",
    "    depth = 10\n",
    "    N_tot = 128\n",
    "    N = N_tot/parts\n",
    "    swap = 1\n",
    "    \n",
    "    f = partial(y,rdd)\n",
    "    \n",
    "    nodes = set(random.sample(all_nodes,k))\n",
    "    \n",
    "    # Here E = activated nodes, we want to find max E (NOT min E)\n",
    "    E1 = f(N,nodes,g.value,depth)['mean']\n",
    "    max_E = E1\n",
    "    temp_max_E = E1\n",
    "    max_nodes = nodes\n",
    "    temp_max_nodes = nodes\n",
    "    accepted = []\n",
    "    chain = 0\n",
    "\n",
    "    while i < 10:\n",
    "        \n",
    "        start = time.time()\n",
    "\n",
    "        if j > 49:\n",
    "            T = T*a\n",
    "            j = 0\n",
    "\n",
    "        if chain > 5000:\n",
    "            #N += 1\n",
    "            T = 1\n",
    "            chain = 0\n",
    "            nodes = set(random.sample(all_nodes,k))\n",
    "            E1 = f(N, nodes, g.value, depth)['mean']\n",
    "            temp_max_E = E1\n",
    "            temp_max_nodes = nodes\n",
    "            print \"chain reset\"\n",
    "\n",
    "        new_nodes = node_swap(graph,all_nodes,nodes,swap)\n",
    "        E2 = f(N, new_nodes, g.value, depth)['mean']\n",
    "        \n",
    "        u = random.uniform(0,1)\n",
    "        \n",
    "        # Boltzman distribution\n",
    "        if u <= math.exp((E2 - E1)/T):\n",
    "            \n",
    "            if E2 > max_E:\n",
    "                max_E = E2\n",
    "                max_nodes = new_nodes\n",
    "                \n",
    "            if E2 < temp_max_E:\n",
    "                temp_max_E = E2\n",
    "                chain = 0\n",
    "\n",
    "            j += 1\n",
    "            nodes = new_nodes\n",
    "            E1 = E2\n",
    "\n",
    "        else:\n",
    "            chain += 1\n",
    "\n",
    "        accepted.append(E1)\n",
    "        i += 1\n",
    "        \n",
    "        print str(i) + ' done in ' + str(time.time() - start)\n",
    "        print E1\n",
    "        print nodes\n",
    "\n",
    "    plt.plot(accepted)\n",
    "    print max_nodes\n",
    "    print max_E\n"
   ]
  },
  {
   "cell_type": "code",
   "execution_count": 16,
   "metadata": {
    "collapsed": true
   },
   "outputs": [],
   "source": [
    "NC_digraph = main.import_graph(\"nc_full.json\")"
   ]
  },
  {
   "cell_type": "code",
   "execution_count": 22,
   "metadata": {
    "collapsed": false
   },
   "outputs": [
    {
     "name": "stdout",
     "output_type": "stream",
     "text": [
      "0.110218048096\n",
      "0.170822324967\n",
      "1 done in 47.3789927959\n",
      "8955.65278568\n",
      "set([u'iTspEpMdqXGm0cNJsIBZwQ', u'9TI_3s-kFcFM7vmW794GlQ', u'YyL6IsdLutK5So0Dm6gJow'])\n",
      "2 done in 60.8021628857\n",
      "8966.50684778\n",
      "set([u'4qrTj3MTqhvh8CvLUmBpmA', u'9TI_3s-kFcFM7vmW794GlQ', u'YyL6IsdLutK5So0Dm6gJow'])\n",
      "3 done in 40.8690330982\n",
      "8966.50684778\n",
      "set([u'4qrTj3MTqhvh8CvLUmBpmA', u'9TI_3s-kFcFM7vmW794GlQ', u'YyL6IsdLutK5So0Dm6gJow'])\n",
      "4 done in 48.6914451122\n",
      "8966.50684778\n",
      "set([u'4qrTj3MTqhvh8CvLUmBpmA', u'9TI_3s-kFcFM7vmW794GlQ', u'YyL6IsdLutK5So0Dm6gJow'])\n",
      "5 done in 62.3215680122\n",
      "8966.50684778\n",
      "set([u'4qrTj3MTqhvh8CvLUmBpmA', u'9TI_3s-kFcFM7vmW794GlQ', u'YyL6IsdLutK5So0Dm6gJow'])\n",
      "6 done in 39.8961639404\n",
      "8996.07569816\n",
      "set([u'nEVXBq0LIDQxd31GUUZ3Nw', u'YyL6IsdLutK5So0Dm6gJow', u'4qrTj3MTqhvh8CvLUmBpmA'])\n",
      "7 done in 39.2412140369\n",
      "8996.07569816\n",
      "set([u'nEVXBq0LIDQxd31GUUZ3Nw', u'YyL6IsdLutK5So0Dm6gJow', u'4qrTj3MTqhvh8CvLUmBpmA'])\n",
      "8 done in 39.2406110764\n",
      "8996.07569816\n",
      "set([u'nEVXBq0LIDQxd31GUUZ3Nw', u'YyL6IsdLutK5So0Dm6gJow', u'4qrTj3MTqhvh8CvLUmBpmA'])\n",
      "9 done in 45.2974529266\n",
      "8996.07569816\n",
      "set([u'nEVXBq0LIDQxd31GUUZ3Nw', u'YyL6IsdLutK5So0Dm6gJow', u'4qrTj3MTqhvh8CvLUmBpmA'])\n",
      "10 done in 60.993240118\n",
      "8996.07569816\n",
      "set([u'nEVXBq0LIDQxd31GUUZ3Nw', u'YyL6IsdLutK5So0Dm6gJow', u'4qrTj3MTqhvh8CvLUmBpmA'])\n",
      "set([u'nEVXBq0LIDQxd31GUUZ3Nw', u'YyL6IsdLutK5So0Dm6gJow', u'4qrTj3MTqhvh8CvLUmBpmA'])\n",
      "8996.07569816\n"
     ]
    },
    {
     "data": {
      "image/png": "[encoded data removed]",
      "text/plain": [
       "<matplotlib.figure.Figure at 0x7fd91b971a10>"
      ]
     },
     "metadata": {},
     "output_type": "display_data"
    }
   ],
   "source": [
    "nodes = main.edge_count_pruner(NC_digraph,5)\n",
    "imp_mcmc(NC_digraph,3,nodes_in=nodes)"
   ]
  },
  {
   "cell_type": "code",
   "execution_count": 9,
   "metadata": {
    "collapsed": false
   },
   "outputs": [
    {
     "name": "stdout",
     "output_type": "stream",
     "text": [
      "set([u'NzWLMPvbEval0OVg_YDn4g'])\n",
      "28.5928532229\n",
      "197.243283987\n"
     ]
    },
    {
     "data": {
      "image/png": "[encoded data removed]",
      "text/plain": [
       "<matplotlib.figure.Figure at 0x7fd9ae9bb1d0>"
      ]
     },
     "metadata": {},
     "output_type": "display_data"
    }
   ],
   "source": [
    "start = time.time()\n",
    "imp_mcmc(NC_digraph,1)\n",
    "\n",
    "print time.time() - start"
   ]
  },
  {
   "cell_type": "code",
   "execution_count": null,
   "metadata": {
    "collapsed": false
   },
   "outputs": [],
   "source": [
    "imp_mcmc(NC_digraph,3)"
   ]
  },
  {
   "cell_type": "code",
   "execution_count": null,
   "metadata": {
    "collapsed": false
   },
   "outputs": [],
   "source": [
    "imp_mcmc(NC_digraph,4)"
   ]
  },
  {
   "cell_type": "code",
   "execution_count": null,
   "metadata": {
    "collapsed": false
   },
   "outputs": [],
   "source": [
    "imp_mcmc(NC_digraph,5)"
   ]
  },
  {
   "cell_type": "code",
   "execution_count": null,
   "metadata": {
    "collapsed": false
   },
   "outputs": [],
   "source": []
  },
  {
   "cell_type": "code",
   "execution_count": null,
   "metadata": {
    "collapsed": false
   },
   "outputs": [],
   "source": [
    "sc.parallelize(range(0,8),32).getNumPartitions()"
   ]
  },
  {
   "cell_type": "code",
   "execution_count": null,
   "metadata": {
    "collapsed": false
   },
   "outputs": [],
   "source": [
    "start = time.time()\n",
    "rdd = sc.parallelize(range(0,2),2)\n",
    "x = [random.choice(NC_digraph.nodes())]\n",
    "spark_greedy.spark_trials(rdd,2**13,x,NC_digraph)\n",
    "print time.time() - start"
   ]
  },
  {
   "cell_type": "code",
   "execution_count": null,
   "metadata": {
    "collapsed": false
   },
   "outputs": [],
   "source": [
    "start = time.time()\n",
    "rdd = sc.parallelize(range(0,4),4)\n",
    "spark_greedy.spark_trials(rdd,2**12,x,NC_digraph)\n",
    "print time.time() - start"
   ]
  },
  {
   "cell_type": "code",
   "execution_count": null,
   "metadata": {
    "collapsed": false
   },
   "outputs": [],
   "source": [
    "main.cascade_trials(2**14,x,NC_digraph)"
   ]
  },
  {
   "cell_type": "code",
   "execution_count": null,
   "metadata": {
    "collapsed": false
   },
   "outputs": [],
   "source": [
    "NC_full = main.import_graph('nc_full.json')\n",
    "x = set([u'irgp7zoz5-wHG4DklEhzBw', u'Axjahugoqcfr6GTidue9cA', u'Fc8NYfCU59hFEyr59AA1BA', u'j-fQR6bLlELfTWtKple3LQ', u'Dxgd2ClL4N1HNjo1DEEmDw'])\n",
    "print len(main.init_full_cascade(x,NC_full,10))"
   ]
  },
  {
   "cell_type": "code",
   "execution_count": null,
   "metadata": {
    "collapsed": false
   },
   "outputs": [],
   "source": [
    "k = 1\n",
    "for g in nx.strongly_connected_component_subgraphs(NC_digraph):\n",
    "    if len(g.nodes()) > 2:\n",
    "        print \"found \" + str(k)\n",
    "        ecc_arr = []\n",
    "        for j in xrange(0,1000):\n",
    "            node = random.choice(g.nodes())\n",
    "            ecc_arr.append(nx.eccentricity(g,node))\n",
    "        \n",
    "        print max(ecc_arr)\n",
    "        k += 1"
   ]
  },
  {
   "cell_type": "code",
   "execution_count": null,
   "metadata": {
    "collapsed": true
   },
   "outputs": [],
   "source": []
  }
 ],
 "metadata": {
  "kernelspec": {
   "display_name": "Python 2",
   "language": "python",
   "name": "python2"
  },
  "language_info": {
   "codemirror_mode": {
    "name": "ipython",
    "version": 2
   },
   "file_extension": ".py",
   "mimetype": "text/x-python",
   "name": "python",
   "nbconvert_exporter": "python",
   "pygments_lexer": "ipython2",
   "version": "2.7.6"
  }
 },
 "nbformat": 4,
 "nbformat_minor": 0
}
