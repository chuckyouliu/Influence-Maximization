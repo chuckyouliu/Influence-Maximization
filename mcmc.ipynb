{
 "cells": [
  {
   "cell_type": "code",
   "execution_count": 1,
   "metadata": {
    "collapsed": false
   },
   "outputs": [],
   "source": [
    "%matplotlib inline\n",
    "import main\n",
    "import spark_greedy\n",
    "import matplotlib.pyplot as plt\n",
    "import random\n",
    "import math\n",
    "import time\n",
    "from functools import partial\n",
    "\n",
    "\n",
    "#VM bs\n",
    "import findspark\n",
    "findspark.init()\n",
    "\n",
    "from pyspark import SparkContext"
   ]
  },
  {
   "cell_type": "code",
   "execution_count": 2,
   "metadata": {
    "collapsed": false
   },
   "outputs": [],
   "source": [
    "sc = SparkContext(\"local\", \"test_run\")"
   ]
  },
  {
   "cell_type": "code",
   "execution_count": 7,
   "metadata": {
    "collapsed": false
   },
   "outputs": [],
   "source": [
    "def node_swap(total_nodes,current_nodes,swap_number):\n",
    "    new_nodes = set(random.sample(total_nodes.difference(current_nodes),swap_number))\n",
    "    kept_nodes = set(random.sample(current_nodes,len(current_nodes) - swap_number))\n",
    "    return new_nodes | kept_nodes\n",
    "\n",
    "def imp_mcmc(graph,k,y=spark_greedy.spark_trials):\n",
    "    \n",
    "    # graph broadcast\n",
    "    g = sc.broadcast(graph)\n",
    "    \n",
    "    # partitions\n",
    "    parts = 32\n",
    "    \n",
    "    # rdd\n",
    "    rdd = sc.parallelize(range(0,parts),parts)\n",
    "    \n",
    "    # iteration variables\n",
    "    i = 0\n",
    "    j = 0\n",
    "    \n",
    "    # annealing parameters\n",
    "    T = 1\n",
    "    a = 0.9\n",
    "    depth = 10\n",
    "    N_tot = 1024\n",
    "    N = N_tot/parts\n",
    "    swap = 1\n",
    "    \n",
    "    f = partial(y,rdd)\n",
    "    \n",
    "    all_nodes = set(graph.nodes())\n",
    "    nodes = set(random.sample(all_nodes,k))\n",
    "    \n",
    "    # Here E = activated nodes, we want to find max E (NOT min E)\n",
    "    E1 = f(N,nodes,g.value,depth)['mean']\n",
    "    max_E = E1\n",
    "    temp_max_E = E1\n",
    "    max_nodes = nodes\n",
    "    temp_max_nodes = nodes\n",
    "    accepted = []\n",
    "    chain = 0\n",
    "\n",
    "    while i < 10:\n",
    "\n",
    "        if j > 49:\n",
    "            T = T*a\n",
    "            j = 0\n",
    "\n",
    "        if chain > 5000:\n",
    "            #N += 1\n",
    "            T = 1\n",
    "            chain = 0\n",
    "            nodes = set(random.sample(all_nodes,k))\n",
    "            E1 = f(N, nodes, g.value, depth)['mean']\n",
    "            temp_max_E = E1\n",
    "            temp_max_nodes = nodes\n",
    "            print \"chain reset\"\n",
    "\n",
    "        new_nodes = node_swap(all_nodes,nodes,swap)\n",
    "        E2 = f(N, new_nodes, g.value, depth)['mean']\n",
    "        \n",
    "        u = random.uniform(0,1)\n",
    "        \n",
    "        # Boltzman distribution\n",
    "        if u <= math.exp((E2 - E1)/T):\n",
    "            \n",
    "            if E2 > max_E:\n",
    "                max_E = E2\n",
    "                max_nodes = new_nodes\n",
    "                \n",
    "            if E2 < temp_max_E:\n",
    "                temp_max_E = E2\n",
    "                chain = 0\n",
    "\n",
    "            j += 1\n",
    "            nodes = new_nodes\n",
    "            E1 = E2\n",
    "\n",
    "        else:\n",
    "            chain += 1\n",
    "\n",
    "        accepted.append(E1)\n",
    "        i += 1\n",
    "\n",
    "    plt.plot(accepted)\n",
    "    print max_nodes\n",
    "    print max_E\n"
   ]
  },
  {
   "cell_type": "code",
   "execution_count": 8,
   "metadata": {
    "collapsed": true
   },
   "outputs": [],
   "source": [
    "NC_digraph = main.import_graph(\"nc_mini.json\")"
   ]
  },
  {
   "cell_type": "code",
   "execution_count": 9,
   "metadata": {
    "collapsed": false
   },
   "outputs": [
    {
     "name": "stdout",
     "output_type": "stream",
     "text": [
      "set([u'gD2FceWxl711U2IJokXBAQ', u'-_1ctLaz3jhPYc12hKXsEQ'])\n",
      "27.8477505403\n",
      "22.795042038\n"
     ]
    },
    {
     "data": {
      "image/png": "[encoded data removed]",
      "text/plain": [
       "<matplotlib.figure.Figure at 0x7fa38fdc9fd0>"
      ]
     },
     "metadata": {},
     "output_type": "display_data"
    }
   ],
   "source": [
    "start = time.time()\n",
    "imp_mcmc(NC_digraph,2)\n",
    "\n",
    "print time.time() - start"
   ]
  },
  {
   "cell_type": "code",
   "execution_count": null,
   "metadata": {
    "collapsed": false
   },
   "outputs": [],
   "source": [
    "imp_mcmc(NC_digraph,3)"
   ]
  },
  {
   "cell_type": "code",
   "execution_count": null,
   "metadata": {
    "collapsed": false
   },
   "outputs": [],
   "source": [
    "imp_mcmc(NC_digraph,4)"
   ]
  },
  {
   "cell_type": "code",
   "execution_count": null,
   "metadata": {
    "collapsed": false
   },
   "outputs": [],
   "source": [
    "imp_mcmc(NC_digraph,5)"
   ]
  },
  {
   "cell_type": "code",
   "execution_count": 12,
   "metadata": {
    "collapsed": false
   },
   "outputs": [
    {
     "name": "stdout",
     "output_type": "stream",
     "text": [
      "[{'std': 20.169496616177607, 'time': 0.0065119266510009766, 'mean': 11.0625}]\n",
      "{'std': 12.300878017442498, 'mean': 6.7800000000000002, 'time': 0.029917001724243164}\n"
     ]
    }
   ],
   "source": []
  },
  {
   "cell_type": "code",
   "execution_count": 14,
   "metadata": {
    "collapsed": false
   },
   "outputs": [
    {
     "data": {
      "text/plain": [
       "32"
      ]
     },
     "execution_count": 14,
     "metadata": {},
     "output_type": "execute_result"
    }
   ],
   "source": [
    "sc.parallelize(range(0,8),32).getNumPartitions()"
   ]
  },
  {
   "cell_type": "code",
   "execution_count": 24,
   "metadata": {
    "collapsed": false
   },
   "outputs": [
    {
     "name": "stdout",
     "output_type": "stream",
     "text": [
      "7.08270215988\n"
     ]
    }
   ],
   "source": [
    "start = time.time()\n",
    "rdd = sc.parallelize(range(0,2),2)\n",
    "x = [random.choice(NC_digraph.nodes())]\n",
    "spark_greedy.spark_trials(rdd,2**13,x,NC_digraph)\n",
    "print time.time() - start"
   ]
  },
  {
   "cell_type": "code",
   "execution_count": 25,
   "metadata": {
    "collapsed": false
   },
   "outputs": [
    {
     "name": "stdout",
     "output_type": "stream",
     "text": [
      "6.13872289658\n"
     ]
    }
   ],
   "source": [
    "start = time.time()\n",
    "rdd = sc.parallelize(range(0,4),4)\n",
    "spark_greedy.spark_trials(rdd,2**12,x,NC_digraph)\n",
    "print time.time() - start"
   ]
  },
  {
   "cell_type": "code",
   "execution_count": 23,
   "metadata": {
    "collapsed": false
   },
   "outputs": [
    {
     "data": {
      "text/plain": [
       "{'mean': 1.0, 'std': 0.0, 'time': 0.8482577800750732}"
      ]
     },
     "execution_count": 23,
     "metadata": {},
     "output_type": "execute_result"
    }
   ],
   "source": [
    "main.cascade_trials(2**14,x,NC_digraph)"
   ]
  },
  {
   "cell_type": "code",
   "execution_count": null,
   "metadata": {
    "collapsed": true
   },
   "outputs": [],
   "source": []
  }
 ],
 "metadata": {
  "kernelspec": {
   "display_name": "Python 2",
   "language": "python",
   "name": "python2"
  },
  "language_info": {
   "codemirror_mode": {
    "name": "ipython",
    "version": 2
   },
   "file_extension": ".py",
   "mimetype": "text/x-python",
   "name": "python",
   "nbconvert_exporter": "python",
   "pygments_lexer": "ipython2",
   "version": "2.7.6"
  }
 },
 "nbformat": 4,
 "nbformat_minor": 0
}
