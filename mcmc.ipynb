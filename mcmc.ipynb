{
 "cells": [
  {
   "cell_type": "code",
   "execution_count": 12,
   "metadata": {
    "collapsed": false
   },
   "outputs": [],
   "source": [
    "%matplotlib inline\n",
    "import main\n",
    "import spark_greedy\n",
    "import matplotlib.pyplot as plt\n",
    "import random\n",
    "import math\n",
    "\n",
    "#VM bs\n",
    "import findspark\n",
    "findspark.init()\n",
    "\n",
    "from pyspark import SparkContext"
   ]
  },
  {
   "cell_type": "code",
   "execution_count": 3,
   "metadata": {
    "collapsed": true
   },
   "outputs": [],
   "source": [
    "sc = SparkContext(\"local\", \"test_run\")"
   ]
  },
  {
   "cell_type": "code",
   "execution_count": 46,
   "metadata": {
    "collapsed": true
   },
   "outputs": [],
   "source": [
    "def node_swap(total_nodes,current_nodes,swap_number):\n",
    "    new_nodes = set(random.sample(total_nodes.difference(current_nodes),swap_number))\n",
    "    kept_nodes = set(random.sample(current_nodes,len(current_nodes) - swap_number))\n",
    "    return new_nodes | kept_nodes\n",
    "\n",
    "def imp_mcmc(g,k,f=main.cascade_trials):\n",
    "    \n",
    "    # iteration variables\n",
    "    i = 0\n",
    "    j = 0\n",
    "    \n",
    "    # annealing parameters\n",
    "    T = 1\n",
    "    a = 0.9\n",
    "    depth = 10\n",
    "    N = 100\n",
    "    swap = 1\n",
    "    \n",
    "    all_nodes = set(g.nodes())\n",
    "    nodes = set(random.sample(all_nodes,k))\n",
    "    \n",
    "    # Here E = activated nodes, we want to find max E (NOT min E)\n",
    "    E1 = f(N,nodes,g,depth)['mean']\n",
    "    max_E = E1\n",
    "    temp_max_E = E1\n",
    "    max_nodes = nodes\n",
    "    temp_max_nodes = nodes\n",
    "    accepted = []\n",
    "    chain = 0\n",
    "\n",
    "    while i < 300:\n",
    "\n",
    "        if j > 49:\n",
    "            T = T*a\n",
    "            j = 0\n",
    "\n",
    "        if chain > 5000:\n",
    "            #N += 1\n",
    "            T = 1\n",
    "            chain = 0\n",
    "            nodes = set(random.sample(all_nodes,k))\n",
    "            E1 = f(N, nodes, g, depth)['mean']\n",
    "            temp_max_E = E1\n",
    "            temp_max_nodes = nodes\n",
    "            print \"chain reset\"\n",
    "\n",
    "        new_nodes = node_swap(all_nodes,nodes,swap)\n",
    "        E2 = f(N, new_nodes, g, depth)['mean']\n",
    "        \n",
    "        u = random.uniform(0,1)\n",
    "        \n",
    "        # Boltzman distribution\n",
    "        if u <= math.exp((E2 - E1)/T):\n",
    "            \n",
    "            if E2 > max_E:\n",
    "                max_E = E2\n",
    "                max_nodes = new_nodes\n",
    "                \n",
    "            if E2 < temp_max_E:\n",
    "                temp_max_E = E2\n",
    "                chain = 0\n",
    "\n",
    "            j += 1\n",
    "            nodes = new_nodes\n",
    "            E1 = E2\n",
    "\n",
    "        else:\n",
    "            chain += 1\n",
    "\n",
    "        accepted.append(E1)\n",
    "        i += 1\n",
    "\n",
    "    plt.plot(accepted)\n",
    "    print max_nodes\n",
    "    print max_E\n"
   ]
  },
  {
   "cell_type": "code",
   "execution_count": 47,
   "metadata": {
    "collapsed": true
   },
   "outputs": [],
   "source": [
    "NC_digraph = main.import_graph(\"nc_mini.json\")"
   ]
  },
  {
   "cell_type": "code",
   "execution_count": 51,
   "metadata": {
    "collapsed": false
   },
   "outputs": [
    {
     "name": "stdout",
     "output_type": "stream",
     "text": [
      "set([u'VhI6xyylcAxi0wOy2HOX3w', u'-_1ctLaz3jhPYc12hKXsEQ'])\n",
      "42.07\n"
     ]
    },
    {
     "data": {
      "image/png": "[encoded data removed]",
      "text/plain": [
       "<matplotlib.figure.Figure at 0x7ff0be555510>"
      ]
     },
     "metadata": {},
     "output_type": "display_data"
    }
   ],
   "source": [
    "imp_mcmc(NC_digraph,2)"
   ]
  },
  {
   "cell_type": "code",
   "execution_count": 52,
   "metadata": {
    "collapsed": false
   },
   "outputs": [
    {
     "name": "stdout",
     "output_type": "stream",
     "text": [
      "set([u'VhI6xyylcAxi0wOy2HOX3w', u'eFxX1tSNLmVkAP9kNv2--Q', u'ts7EG6Zv2zdMDg29nyqGfA'])\n",
      "47.88\n"
     ]
    },
    {
     "data": {
      "image/png": "[encoded data removed]",
      "text/plain": [
       "<matplotlib.figure.Figure at 0x7ff0be5acd50>"
      ]
     },
     "metadata": {},
     "output_type": "display_data"
    }
   ],
   "source": [
    "imp_mcmc(NC_digraph,3)"
   ]
  },
  {
   "cell_type": "code",
   "execution_count": 53,
   "metadata": {
    "collapsed": false
   },
   "outputs": [
    {
     "name": "stdout",
     "output_type": "stream",
     "text": [
      "set([u'VhI6xyylcAxi0wOy2HOX3w', u'LP0bl3GKToABt3lnpSvA2w', u'3GteArKIVRlJZjjRqqwgaQ', u'ts7EG6Zv2zdMDg29nyqGfA'])\n",
      "51.54\n"
     ]
    },
    {
     "data": {
      "image/png": "[encoded data removed]",
      "text/plain": [
       "<matplotlib.figure.Figure at 0x7ff0be390290>"
      ]
     },
     "metadata": {},
     "output_type": "display_data"
    }
   ],
   "source": [
    "imp_mcmc(NC_digraph,4)"
   ]
  },
  {
   "cell_type": "code",
   "execution_count": 54,
   "metadata": {
    "collapsed": false
   },
   "outputs": [
    {
     "name": "stdout",
     "output_type": "stream",
     "text": [
      "set([u'VhI6xyylcAxi0wOy2HOX3w', u'-_1ctLaz3jhPYc12hKXsEQ', u'3RybmJO-xvNhP7_SZBhkfg', u'pNMUZiL-TaQojaEygESgwQ', u'ts7EG6Zv2zdMDg29nyqGfA'])\n",
      "55.16\n"
     ]
    },
    {
     "data": {
      "image/png": "[encoded data removed]",
      "text/plain": [
       "<matplotlib.figure.Figure at 0x7ff0be2a0290>"
      ]
     },
     "metadata": {},
     "output_type": "display_data"
    }
   ],
   "source": [
    "imp_mcmc(NC_digraph,5)"
   ]
  },
  {
   "cell_type": "code",
   "execution_count": null,
   "metadata": {
    "collapsed": true
   },
   "outputs": [],
   "source": []
  },
  {
   "cell_type": "code",
   "execution_count": null,
   "metadata": {
    "collapsed": true
   },
   "outputs": [],
   "source": []
  }
 ],
 "metadata": {
  "kernelspec": {
   "display_name": "Python 2",
   "language": "python",
   "name": "python2"
  },
  "language_info": {
   "codemirror_mode": {
    "name": "ipython",
    "version": 2
   },
   "file_extension": ".py",
   "mimetype": "text/x-python",
   "name": "python",
   "nbconvert_exporter": "python",
   "pygments_lexer": "ipython2",
   "version": "2.7.6"
  }
 },
 "nbformat": 4,
 "nbformat_minor": 0
}
